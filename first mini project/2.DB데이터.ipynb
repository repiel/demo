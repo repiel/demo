{
 "cells": [
  {
   "cell_type": "markdown",
   "id": "662c6bf6",
   "metadata": {},
   "source": [
    "# 노래데이터 DB 입력 프로그램"
   ]
  },
  {
   "cell_type": "markdown",
   "id": "121ec162",
   "metadata": {},
   "source": [
    "- conn = cx_Oracle.connect(\"free/1234@localhost:1521/xe\")\n",
    "\n",
    "- 포함된 SQL문을 통해 DB를 우선 작성해야함\n",
    "\n",
    "- \"아이디 free/비번 1234 으로 접근계정을 생성하거나, 기존에 쓰던 계정정보로 코드를 변환해줘야함 \n"
   ]
  },
  {
   "cell_type": "markdown",
   "id": "b4667a64",
   "metadata": {},
   "source": [
    "## 노래 데이터 리스트"
   ]
  },
  {
   "cell_type": "code",
   "execution_count": 1,
   "id": "ffbab072",
   "metadata": {},
   "outputs": [],
   "source": [
    "H_jemok = ['Happy','행복','Happiness(행복)','Juice']\n",
    "\n",
    "H_juso = ['https://youtu.be/ZbZSe6N_BXs','https://youtu.be/hNXkoolLt34',\n",
    "          'https://youtu.be/JFgv8bKfxEs','https://youtu.be/XaCrQL_8eMY']\n",
    "\n",
    "H_mungu = ['''Clap along if you know what happiness is to you\n",
    "Because I'm happy''','''그대 나 보이나요 나를 불러줘요\n",
    "그대 곁에 있을꺼야 너를 사랑해\n",
    "함께해요 그대와 영원히''','''달라 달라 나는 좀 긍정의 힘을 나는 믿고 있지''','''Ooh baby\n",
    "The juice ain't\n",
    "worth the squeeze''']\n",
    "\n",
    "H_gasa = [''' It might seem crazy what I'm about to say \n",
    "내가 말하는 것이 조금 미친거 같을 수도 있어\n",
    "Sunshine she's here, you can take a break\n",
    "찬란하게, 그녀가 여기에 있네, 넌 쉴 수가 없어\n",
    "I'm a hot air balloon that could go to space\n",
    "난 우주까지도 갈 수 있는 열기구야\n",
    "With the air, like I don't care, baby, by the way\n",
    "공기와 함께, 아무튼 난 신경쓰지 아니 하겠어 \n",
    "Because I'm happy\n",
    "난 행복하니깐\n",
    "''','''약속된 시간이 왔어요 그대 앞에 있어요\n",
    "두려움에 울고 있지만 눈물을 닦아 주었어요\n",
    "그대 내 손 잡았죠 일어날꺼야\n",
    "함께해 준 그대에게 행복을\n",
    "눈감고 그댈 그려요 맘속 그댈 찾았죠\n",
    "나를 밝혀주는 빛이 보여''','''고민은 Blow Up 꿀꿀한 기분 Change Up\n",
    "힘을 내려고 이제 Windup 한 방에 멋진 일이 가득 Straight Up\n",
    "난 매일 더 Style Up 기분 Up 되는 일에 집중!''','''Mirror mirror on the wall\n",
    "벽에 달린 거울아 거울아\n",
    "Don't say it\n",
    "아무 말도 하지마\n",
    "cause I know I'm cute\n",
    "나도 내가 귀여운거 알거든\n",
    "Ooh baby''']\n",
    "\n",
    "H_list = [(H_jemok[0], H_juso[0], H_mungu[0], H_gasa[0], 'happy'),\n",
    "          (H_jemok[1], H_juso[1], H_mungu[1], H_gasa[1], 'happy'),\n",
    "          (H_jemok[2], H_juso[2], H_mungu[2], H_gasa[2], 'happy'),\n",
    "          (H_jemok[3], H_juso[3], H_mungu[3], H_gasa[3], 'happy')]\n",
    "\n",
    "L_jemok =['우연히 봄','벚꽃엔딩','사랑인가봐','Baby']\n",
    "L_juso = ['https://youtu.be/GjyMuHmzxVE','https://youtu.be/tXV7dfvSefo','https://youtu.be/McidaTgrQB0','https://youtu.be/kffacxfA7G4']\n",
    "L_mungu = ['''달이 참 아름답네요 -나츠메 소세키- ''','''흩날리는 벚꽃 잎이\n",
    "울려 퍼질 이 거리를 둘이 걸어요''','''나 돌아서도 온통 너인 건\n",
    "아무래도 사랑인가 봐''','''You know you love me, I know you care Just shout whenever, and I'll be there''']\n",
    "\n",
    "L_gasa = ['''우연히 내게 오나 봐\n",
    "봄 향기가 보여\n",
    "너도 같이 오나 봐\n",
    "저 멀리서 네 향기가\n",
    "설레는 코끝에 나의 입술에\n",
    "괜찮은 느낌 이 떨림\n",
    "나도 몰래 우연히 봄''','null','null','null']\n",
    "\n",
    "L_list = [(L_jemok[0], L_juso[0], L_mungu[0], L_gasa[0], 'love'),\n",
    "          (L_jemok[1], L_juso[1], L_mungu[1], L_gasa[1], 'love'),\n",
    "          (L_jemok[2], L_juso[2], L_mungu[2], L_gasa[2], 'love'),\n",
    "          (L_jemok[3], L_juso[3], L_mungu[3], L_gasa[3], 'love')]\n",
    "\n",
    "E_jemok =['딩가딩가','party till we die','Wildcard','Booyah']\n",
    "E_juso = ['https://youtu.be/LzmdGtzby2s','https://youtu.be/qRJejXo8AFs',\n",
    "          'https://youtu.be/ux9vr4xfWj4','https://youtu.be/QCyIY10KBnk']\n",
    "E_mungu = ['''딩가딩 링가링\n",
    "노는 게 좋아 yeah\n",
    "딩가딩가 딩가딩가\n",
    "ice cream 먹으러 갈래''','''All we are we are\n",
    "Party Till We Die''','''You know you're dealing with a wildcard If you go all in\n",
    "I'll make your troubles fold Might take your diamonds\n",
    "but I'll steal your heart''','인생은 즐기는 자의 것이다.']\n",
    "E_gasa = ['''유유자적해 여기 방구석에\n",
    "언제부터인지 사회와의 거리가 꽤나 멀지\n",
    "이 여름이 다 지났네\n",
    "차가운 땀이 나네\n",
    "밤이나 또 낮이나 제자리만 돌고 돌아\n",
    "부족해 비타민 D\n",
    "아까워요 delivery fee\n",
    "하필 완벽하네 날씨\n",
    "청개구리 난 원래 집순이야\n",
    "내 친구는 날파리고\n",
    "외로움만 쌓이죠\n",
    "해독할 시간이 필요해''','null','null','null']\n",
    "\n",
    "E_list = [(E_jemok[0], E_juso[0], E_mungu[0], E_gasa[0], 'exciting'),\n",
    "          (E_jemok[1], E_juso[1], E_mungu[1], E_gasa[1], 'exciting'),\n",
    "          (E_jemok[2], E_juso[2], E_mungu[2], E_gasa[2], 'exciting'),\n",
    "          (E_jemok[3], E_juso[3], E_mungu[3], E_gasa[3], 'exciting')]\n",
    "\n",
    "P_jemok =['좋은일이 있을거야','Happy Things','바람의 왈츠',\"HERO\"]\n",
    "P_juso = ['https://youtu.be/M9l-4V9krYo','https://youtu.be/E1xO4dp3730',\n",
    "          'https://youtu.be/AeJEMaD-R4c','https://youtu.be/4jXLHKMRA-E']\n",
    "P_mungu = ['''Hi, Hi, Beautiful sunshine\n",
    "싱그러운 봄 바람 노래하는 저 새들도\n",
    "Fly high everything’s alright\n",
    "웬만하면 크게 웃고 다시 시작해봐\n",
    "오늘은 좋은일이 있을거야''','''유난히 사람이 많은 출근길\n",
    "딱 내 앞에서 자리 났을 때\n",
    "''','다만 그때는 그때의 아름다움을 모를 뿐이다.','''내 어깨에 기대어\n",
    "손을 꼭 잡고 같이 어디로든 가자''']\n",
    "P_gasa =['''있잖아 요즘 너무 이상해\n",
    "복잡한 걱정거리 만 늘어놓고\n",
    "답답한 맘에 얘길 해 봤는데\n",
    "원래 사는게 다 그런거래\n",
    "\n",
    "조그만 실수에 예민 하고\n",
    "커다란 칭찬엔 어색해지고\n",
    "알잖아 어차피 다 지난 일인걸\n",
    "더 이상 무슨 말이 필요해\n",
    "\n",
    "서둘지 말고 한걸음씩 즐겨봐\n",
    "어때 느낌이 와 Oh!''','null','null','null']\n",
    "\n",
    "P_list = [(P_jemok[0], P_juso[0], P_mungu[0], P_gasa[0], 'peace'),\n",
    "          (P_jemok[1], P_juso[1], P_mungu[1], P_gasa[1], 'peace'),\n",
    "          (P_jemok[2], P_juso[2], P_mungu[2], P_gasa[2], 'peace'),\n",
    "          (P_jemok[3], P_juso[3], P_mungu[3], P_gasa[3], 'peace')]\n",
    "\n",
    "A_jemok = ['16Shots','What The Hell','burn the House Down','1분만 닥쳐줄래요']\n",
    "A_juso = ['https://www.youtube.com/watch?v=4POG7qA3nlo','https://youtu.be/tQmEd_UeeIk',\n",
    "         'https://youtu.be/oLVgwsevkco','https://youtu.be/fagmXQaDjW4']\n",
    "A_mungu = ['''If you hit up the da-da-da-don\n",
    "Bullets gon' hit you wherever you are''','''All my life, I've been good, but now\n",
    "I'm thinkin', \"What the hell?\"''','사람은 누구나 마음 속에 악마를 갖고 있다.','''일분만 닥쳐줄래요\n",
    "말 정말 많군요\n",
    "대체 그 놈의 주둥인 지치지도 않네요''']\n",
    "A_gasa = ['''No gyal can tell me 'bout my mother\n",
    "16 shot, we go longer than a ladder\n",
    "Dem nuh fi talk 'bout the real don dada\n",
    "Put body inna pot dem a bun like grabba\n",
    "No boy can diss me or my mother\n",
    "Round here ain't safe, everybody need armour''','null','null','null']\n",
    "\n",
    "A_list = [(A_jemok[0], A_juso[0], A_mungu[0], A_gasa[0], 'angry'),\n",
    "          (A_jemok[1], A_juso[1], A_mungu[1], A_gasa[1], 'angry'),\n",
    "          (A_jemok[2], A_juso[2], A_mungu[2], A_gasa[2], 'angry'),\n",
    "          (A_jemok[3], A_juso[3], A_mungu[3], A_gasa[3], 'angry')]\n",
    "\n",
    "T_jemok = ['World’s Smallest Violin','밤편지','꿈에서 만나','한숨']\n",
    "T_juso = ['https://youtu.be/PEnJbjBuxnw','https://youtu.be/BzYnNdJhZQw',\n",
    "         'https://youtu.be/fWbjWUyJjJQ','https://youtu.be/5iSlfF8TQ9k']\n",
    "T_mungu = ['''Next to them, my shit don't feel so grand\n",
    "But I can't help myself from feeling bad''','''이 밤 그날의 반딧불을\n",
    "당신의 창 가까이 보낼게요''','''네가 있던 세상은\n",
    "이 느낌이었지\n",
    "반가웠어\n",
    "꼭\n",
    "또다시 꿈에서 만나''','괜찮아요 내가 안아줄게요']\n",
    "\n",
    "T_gasa = ['''\n",
    "The world's smallest violin\n",
    "세상에서 가장 작은 바이올린도\n",
    "Really needs an audience\n",
    "연주를 들어줄 관객이 필요해요\n",
    "So if I do not find somebody soon (that's right, that's right)\n",
    "그러니 들어줄 사람을 찾지 않는다면\n",
    "I'll blow up into smithereens\n",
    "전 펑하고 터져버리고 말걸요!''','','','']\n",
    "\n",
    "T_list = [(T_jemok[0], T_juso[0], T_mungu[0], T_gasa[0], 'tired'),\n",
    "          (T_jemok[1], T_juso[1], T_mungu[1], T_gasa[1], 'tired'),\n",
    "          (T_jemok[2], T_juso[2], T_mungu[2], T_gasa[2], 'tired'),\n",
    "          (T_jemok[3], T_juso[3], T_mungu[3], T_gasa[3], 'tired')]\n",
    "\n",
    "\n",
    "N_jemok = ['Flying Bobs','Toxic','Flyday Chinatown','공허해']\n",
    "N_juso = ['https://www.youtube.com/watch?v=PlDudxUMAho','https://youtu.be/MNTarTRNA4o',\n",
    "          'https://youtu.be/EbDuZmAumzs','https://youtu.be/gEqlF5N8UMs']\n",
    "N_mungu = ['''처음부터 다시 할수 있다면\n",
    "난 당장 무엇이든지 하겠어요''','''I'm better off all by myself''',\n",
    "          '''오늘은 고독함에 빠지고 싶은 날이야''','''거울 속에 내 모습은 텅 빈 것처럼 공허해''']\n",
    "N_gasa =['''\n",
    "하지만 돌아간다고 해도\n",
    "나는 아마 같은 실수들을 또 다시 반복하겠지요\n",
    "그래도 괜찮아요''','','','']\n",
    "\n",
    "N_list = [(N_jemok[0], N_juso[0], N_mungu[0], N_gasa[0], 'nervous'),\n",
    "          (N_jemok[1], N_juso[1], N_mungu[1], N_gasa[1], 'nervous'),\n",
    "          (N_jemok[2], N_juso[2], N_mungu[2], N_gasa[2], 'nervous'),\n",
    "          (N_jemok[3], N_juso[3], N_mungu[3], N_gasa[3], 'nervous')]\n",
    "\n",
    "S_jemok = ['Floating Through Space','This is me','Alone','수고했어 오늘도']\n",
    "S_juso = ['https://www.youtube.com/watch?v=7Xfwu8NH1iI','https://youtu.be/wEJd2RyGm8Q',\n",
    "          'https://youtu.be/1-xGerv5FOk','https://youtu.be/U3e4AOd-DzE']\n",
    "S_mungu = ['''You made it through another day\n",
    "You did it, let's celebrate''','우리는 존재 그 자체로 빛나는 사람이다.',\n",
    "           '''If this night is not foreverAt least we are togetherI know I'm not alone''',\n",
    "           '''수고했어 오늘도 아무도 너의 슬픔에 관심 없대도 난 늘 응원해''']\n",
    "S_gasa = ['''\n",
    "Some days, you feel you'll break\n",
    "때론 부서져버릴 것만 같은 그런 날이 있죠\n",
    "But you made it through another day\n",
    "그런데도 그대 그 힘든 하루를 버텨냈네요\n",
    "Yeah, you did it, let's celebrate, oh\n",
    "그래요, 그대가 해낸 거예요, 같이 축하해볼까요''','null','null','null']\n",
    "\n",
    "S_list = [(S_jemok[0], S_juso[0], S_mungu[0], S_gasa[0], 'sad'),\n",
    "          (S_jemok[1], S_juso[1], S_mungu[1], S_gasa[1], 'sad'),\n",
    "          (S_jemok[2], S_juso[2], S_mungu[2], S_gasa[2], 'sad'),\n",
    "          (S_jemok[3], S_juso[3], S_mungu[3], S_gasa[3], 'sad')]"
   ]
  },
  {
   "cell_type": "code",
   "execution_count": 2,
   "id": "830073d2",
   "metadata": {},
   "outputs": [],
   "source": [
    "DBList = [H_list,L_list,E_list,P_list,S_list,A_list,T_list,N_list] ## 상위 8개 리스트를 하나로 묶음"
   ]
  },
  {
   "cell_type": "code",
   "execution_count": 3,
   "id": "cdce88e0",
   "metadata": {},
   "outputs": [
    {
     "data": {
      "text/plain": [
       "8"
      ]
     },
     "execution_count": 3,
     "metadata": {},
     "output_type": "execute_result"
    }
   ],
   "source": [
    "len(DBList) # 실행시 '8'이 출력되어야 해요"
   ]
  },
  {
   "cell_type": "markdown",
   "id": "b82d577a",
   "metadata": {},
   "source": [
    "## 리스트 데이터를 DB에 저장"
   ]
  },
  {
   "cell_type": "code",
   "execution_count": 10,
   "id": "37e280e1",
   "metadata": {},
   "outputs": [],
   "source": [
    "import cx_Oracle ## 오라클 연동 라이브러리, sqld를 통해 사전에 테이블(song)생성이 필요"
   ]
  },
  {
   "cell_type": "code",
   "execution_count": 11,
   "id": "774dc47f",
   "metadata": {},
   "outputs": [],
   "source": [
    "# 데이터베이스(Oracle)와 연동작업\n",
    "conn = cx_Oracle.connect(\"free/1234@localhost:1521/xe\")\n",
    "\n",
    "# cursor(커서) : 레코드 셋을 탐색하기 위해 사용하는 객체\n",
    "cursor = conn.cursor()\n",
    "\n"
   ]
  },
  {
   "cell_type": "code",
   "execution_count": 12,
   "id": "4c4659ca",
   "metadata": {},
   "outputs": [],
   "source": [
    "for i in DBList:   # i == H_list,L_list...\n",
    "    for j in i:    # j : (H_jemok[0], H_juso[0],H_mungu[0], H_gasa[0], 'happy'),(S_...),...\n",
    "        con_save = j \n",
    "        \n",
    "        sql = \"select max(scode) from song\"   # DB song테이블 마지막socde에서 1 더하는 기능(고유번호 부여)\n",
    "        # query 실행\n",
    "        cursor.execute(sql)\n",
    "        check = cursor.fetchone()[0]\n",
    "        if check == None:\n",
    "            save = 1\n",
    "        else:\n",
    "            save = check + 1\n",
    "        \n",
    "        scode = (save,)\n",
    "        \n",
    "        \n",
    "        \n",
    "        con_save = scode + j  # 생성한 고유번호 + 노래 데이터\n",
    "        sql = \"insert into song values(:1, :2, :3, :4, :5, :6)\" # DB에 입력\n",
    "\n",
    "        cursor.execute(sql, con_save)\n",
    "        \n",
    "        conn.commit()"
   ]
  },
  {
   "cell_type": "markdown",
   "id": "f865e2bc",
   "metadata": {},
   "source": [
    "상위 프로그램 실행 후 DB 확인 필수!\n",
    "\n",
    "- IntegrityError: ORA-00001: unique constraint (FREE.SYS_C007089) violated <br>\n",
    "해당 오류가 발생했다면 중복값 에러(이미 DB에 동일한 데이터가 입력되어 있음) <br>"
   ]
  },
  {
   "cell_type": "markdown",
   "id": "b2a57956",
   "metadata": {},
   "source": [
    "## 다이어리 데이터 입력(주간그래프 기능 테스트)"
   ]
  },
  {
   "cell_type": "code",
   "execution_count": null,
   "id": "aa7bdee1",
   "metadata": {},
   "outputs": [],
   "source": [
    "dydata1 = ['박유정', '2022-09-23', 2, 3, 2, '우연히 봄', '오늘 발표 끝!']\n",
    "dydata2 = ['박유정', '2022-09-24', 1, 4, 4, '벚꽃엔딩', '오늘 발표 끝!']\n",
    "dydata3 = ['박유정', '2022-09-25', 2, 1, 3, '사랑인가봐', '오늘 발표 끝!']\n",
    "dydata4 = ['박유정', '2022-09-26', 2, 2, 1, 'Baby', '오늘 발표 끝!']\n",
    "dydata5 = ['박유정', '2022-09-27', 1, 4, 3, '딩가딩가', '오늘 발표 끝!']\n",
    "dydata6 = ['박유정', '2022-09-28', 2, 5, 4, 'party till we die', '오늘 발표 끝!']\n",
    "dydata7 = ['박유정', '2022-09-28', 2, 5, 2, 'Happiness(행복)', '오늘 발표 끝!']\n",
    "dydata8 = ['박유정', '2022-09-28', 1, 5, 1, 'Happy', '오늘 발표 끝!']"
   ]
  },
  {
   "cell_type": "code",
   "execution_count": null,
   "id": "6f9d2cfd",
   "metadata": {},
   "outputs": [],
   "source": [
    "dydata = [dydata1,dydata2,dydata3,dydata4,dydata5,dydata6,dydata7,dydata8]"
   ]
  },
  {
   "cell_type": "code",
   "execution_count": null,
   "id": "287a1be5",
   "metadata": {},
   "outputs": [],
   "source": [
    "# 데이터베이스(Oracle)와 연동작업\n",
    "conn = cx_Oracle.connect(\"free/1234@localhost:1521/xe\")\n",
    "\n",
    "# cursor(커서) : 레코드 셋을 탐색하기 위해 사용하는 객체\n",
    "cursor = conn.cursor()\n"
   ]
  },
  {
   "cell_type": "code",
   "execution_count": null,
   "id": "37d19748",
   "metadata": {},
   "outputs": [],
   "source": [
    "for i in dydata:\n",
    "    diary = i\n",
    "    sql = \"insert into diary values(:1, :2, :3, :4, :5, :6, :7)\"\n",
    "    cursor.execute(sql, diary)\n",
    "    conn.commit()"
   ]
  },
  {
   "cell_type": "markdown",
   "id": "f7139b68",
   "metadata": {},
   "source": [
    "## 회원 데이터 입력(회원가입 및 기존회원 조회 기능 테스트)"
   ]
  },
  {
   "cell_type": "code",
   "execution_count": null,
   "id": "8ad4cae8",
   "metadata": {},
   "outputs": [],
   "source": [
    "import cx_Oracle ## 오라클 연동 라이브러리, sqld를 통해 사전에 테이블(song)생성이 필요"
   ]
  },
  {
   "cell_type": "code",
   "execution_count": null,
   "id": "00a00ee1",
   "metadata": {},
   "outputs": [],
   "source": [
    "# 데이터베이스(Oracle)와 연동작업\n",
    "conn = cx_Oracle.connect(\"free/1234@localhost:1521/xe\")\n",
    "\n",
    "# cursor(커서) : 레코드 셋을 탐색하기 위해 사용하는 객체\n",
    "cursor = conn.cursor()"
   ]
  },
  {
   "cell_type": "code",
   "execution_count": null,
   "id": "925202dd",
   "metadata": {},
   "outputs": [],
   "source": [
    "mdata1 = [1, '박유정', '1,3,5']\n",
    "mdata2 = [2, '정혜인', '5,10,11']\n",
    "mdata3 = [3, '최창규', '11,21']\n",
    "mdata4 = [4, '유경민', '20,22,30,31']"
   ]
  },
  {
   "cell_type": "code",
   "execution_count": null,
   "id": "28e1fd09",
   "metadata": {},
   "outputs": [],
   "source": [
    "mebList = [mdata1,mdata2,mdata3,mdata4]"
   ]
  },
  {
   "cell_type": "code",
   "execution_count": null,
   "id": "dac9f53d",
   "metadata": {},
   "outputs": [],
   "source": [
    "for i in mebList:\n",
    "    meb = i\n",
    "    sql = \"insert into meb values(:1, :2, :3)\"\n",
    "    cursor.execute(sql, meb)\n",
    "    conn.commit()"
   ]
  }
 ],
 "metadata": {
  "kernelspec": {
   "display_name": "Python 3 (ipykernel)",
   "language": "python",
   "name": "python3"
  },
  "language_info": {
   "codemirror_mode": {
    "name": "ipython",
    "version": 3
   },
   "file_extension": ".py",
   "mimetype": "text/x-python",
   "name": "python",
   "nbconvert_exporter": "python",
   "pygments_lexer": "ipython3",
   "version": "3.9.12"
  },
  "toc": {
   "base_numbering": 1,
   "nav_menu": {},
   "number_sections": true,
   "sideBar": true,
   "skip_h1_title": false,
   "title_cell": "Table of Contents",
   "title_sidebar": "Contents",
   "toc_cell": false,
   "toc_position": {},
   "toc_section_display": true,
   "toc_window_display": true
  }
 },
 "nbformat": 4,
 "nbformat_minor": 5
}
